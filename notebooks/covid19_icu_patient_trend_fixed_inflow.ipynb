{
 "cells": [
  {
   "cell_type": "code",
   "execution_count": 8,
   "metadata": {},
   "outputs": [],
   "source": [
    "import git\n",
    "repo = git.Repo('.', search_parent_directories=True)\n",
    "repo_loc = repo.working_tree_dir\n",
    "\n",
    "import os\n",
    "import sys\n",
    "from pathlib import Path\n",
    "\n",
    "sys.path.append(repo_loc)\n",
    "\n",
    "import numpy as np\n",
    "import pandas as pd\n",
    "\n",
    "# Import custom functions\n",
    "from src.covid19_plot_func import plot_death_icu_rate\n",
    "from src.covid19_model import run_model, run_multiple\n",
    "from src import conf_helper as cf\n",
    "from src.covid19_region_attr import create_region\n",
    "from src import covid19_plot_func\n"
   ]
  },
  {
   "cell_type": "markdown",
   "metadata": {},
   "source": [
    "# Set parameters"
   ]
  },
  {
   "cell_type": "code",
   "execution_count": null,
   "metadata": {},
   "outputs": [],
   "source": [
    "model_config_file = 'model_param_v1.yaml'\n",
    "model_config = cf.CovidConf(project_dir=repo_loc, config_file=model_config_file)"
   ]
  },
  {
   "cell_type": "code",
   "execution_count": null,
   "metadata": {},
   "outputs": [],
   "source": [
    "# Choose a region object to run the model with\n",
    "region_config = 'wuhan_20200412.yaml' # 'bavaria_20200416.yaml', 'lombardy_20200417.yaml', 'nsw_20200425.yaml', 'wuhan_20200412.yaml']\n",
    "\n",
    "r = create_region(region_config)\n",
    "\n",
    "list_base_factor = [1, 2, 5, 10, 20]\n",
    "\n",
    "n_base_test_case = int(r.t_icu_est/10)\n",
    "# n_base_test_case_2 = 2*n_base_test_case\n",
    "# n_base_test_case_5 = 5*n_base_test_case\n",
    "# n_base_test_case_10 = 10*n_base_test_case\n",
    "# n_base_test_case_20 = 20*n_base_test_case\n",
    "\n",
    "constant_flow_days = 30\n",
    "\n",
    "n_days = constant_flow_days*3\n",
    "t_hosp_bed = 2000\n",
    "t_icu = [r.t_icu_est*20] # Maximise ICU beds to see the complete trends\n",
    "t_vent = t_icu"
   ]
  },
  {
   "cell_type": "markdown",
   "metadata": {},
   "source": [
    "# Run model"
   ]
  },
  {
   "cell_type": "code",
   "execution_count": null,
   "metadata": {},
   "outputs": [],
   "source": [
    "list_constant_df_infected = []\n",
    "constant_flow_text = []\n",
    "\n",
    "for factor in list_base_factor:\n",
    "    constant_daily_case = n_base_test_case*factor\n",
    "    daily_case = [constant_daily_case]*constant_flow_days # constant daily cases for 30 days\n",
    "    \n",
    "    constant_flow_text.append(f'{constant_daily_case} per day ({\"%.2f\" % ((constant_daily_case/r.get_total_pop())*100000)} per 100K pop per day)')    \n",
    "    \n",
    "    list_df_infected, list_df_death_cause = run_multiple(daily_case, r.pop_ratio, n_days, t_hosp_bed, t_icu, t_vent, model_config)\n",
    "    \n",
    "    list_constant_df_infected.append(list_df_infected[0])\n",
    "    \n",
    "icu_case_max = (list_df_infected[0]['Total']['ICU'].max() + list_df_infected[0]['Total']['ICU + ventilator'].max())\n",
    "\n",
    "# Run the daily case from the region as well\n",
    "list_df_infected, list_df_death_cause = run_multiple(r.daily_case, r.pop_ratio, n_days, t_hosp_bed, t_icu, t_vent, model_config)\n",
    "    \n",
    "list_constant_df_infected.append(list_df_infected[0])\n",
    "constant_flow_text.append(f'Inflow with {r.region_name} cases')"
   ]
  },
  {
   "cell_type": "markdown",
   "metadata": {},
   "source": [
    "# Plotting"
   ]
  },
  {
   "cell_type": "code",
   "execution_count": null,
   "metadata": {},
   "outputs": [],
   "source": [
    "covid19_plot_func.plot_constant_daily_case_curve(r, list_constant_df_infected, constant_flow_text, icu_case_max)"
   ]
  }
 ],
 "metadata": {
  "kernelspec": {
   "display_name": "covid19_venv",
   "language": "python",
   "name": "python3"
  },
  "language_info": {
   "codemirror_mode": {
    "name": "ipython",
    "version": 3
   },
   "file_extension": ".py",
   "mimetype": "text/x-python",
   "name": "python",
   "nbconvert_exporter": "python",
   "pygments_lexer": "ipython3",
   "version": "3.9.16"
  }
 },
 "nbformat": 4,
 "nbformat_minor": 2
}

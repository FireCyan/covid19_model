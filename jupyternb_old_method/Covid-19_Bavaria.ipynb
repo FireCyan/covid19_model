{
 "cells": [
  {
   "cell_type": "code",
   "execution_count": 1,
   "metadata": {},
   "outputs": [],
   "source": [
    "import pandas as pd\n",
    "import numpy as np\n",
    "import requests\n",
    "from bs4 import BeautifulSoup\n",
    "\n",
    "load_from_wiki = False"
   ]
  },
  {
   "cell_type": "code",
   "execution_count": 2,
   "metadata": {},
   "outputs": [],
   "source": [
    "# https://en.wikipedia.org/wiki/2020_coronavirus_pandemic_in_Germany\n",
    "if load_from_wiki:\n",
    "\n",
    "    page = requests.get(\"https://en.wikipedia.org/wiki/2020_coronavirus_pandemic_in_Germany\")\n",
    "\n",
    "    soup = BeautifulSoup(page.content, 'html.parser')\n",
    "    # print(soup.prettify())\n",
    "\n",
    "    Bavaria_tables = soup.find_all(\"table\", class_='wikitable')\n",
    "    \n",
    "    df_Bavaria = pd.read_html(str(Bavaria_tables), header=0, skiprows=1)[0]\n",
    "    df_Bavaria.drop(index=[0, df_Bavaria.shape[0] - 1], inplace=True)\n",
    "    \n",
    "    df_Bavaria.to_csv(\"./csv_input/df_Bavaria_20200415.csv\")\n",
    "else:\n",
    "    df_Bavaria = pd.read_csv(\"./csv_input/df_Bavaria_20200415.csv\")"
   ]
  },
  {
   "cell_type": "code",
   "execution_count": 3,
   "metadata": {},
   "outputs": [
    {
     "name": "stderr",
     "output_type": "stream",
     "text": [
      "<ipython-input-3-fa90f333bbed>:7: SettingWithCopyWarning: \n",
      "A value is trying to be set on a copy of a slice from a DataFrame.\n",
      "Try using .loc[row_indexer,col_indexer] = value instead\n",
      "\n",
      "See the caveats in the documentation: https://pandas.pydata.org/pandas-docs/stable/user_guide/indexing.html#returning-a-view-versus-a-copy\n",
      "  df_ncase['Bavaria'] = df_ncase['Bavaria'].apply(lambda x: str(x).split('(')[0]).apply(lambda x: int(x))\n"
     ]
    }
   ],
   "source": [
    "# print(df_Bavaria.head())\n",
    "\n",
    "df_ncase = df_Bavaria[['Date', 'Bavaria']]\n",
    "acc_death = \\\n",
    "df_ncase['Bavaria'].apply(lambda x: str(x).split('(')[1].split(')')[0] if len(str(x).split('(')) > 1 else 0).apply(lambda x: int(x)).to_numpy()\n",
    "\n",
    "df_ncase['Bavaria'] = df_ncase['Bavaria'].apply(lambda x: str(x).split('(')[0]).apply(lambda x: int(x))\n",
    "\n",
    "df_ncase.to_csv(\"./csv_input/df_Bavaria_cleaned_20200415.csv\", index=False)\n",
    "# df_ncase.head(100)"
   ]
  },
  {
   "cell_type": "code",
   "execution_count": 4,
   "metadata": {},
   "outputs": [],
   "source": [
    "acc_cases = df_ncase['Bavaria'].to_numpy()\n",
    "\n",
    "new_cases = np.append(acc_cases[0], np.diff(acc_cases))\n",
    "# print(new_cases.sum())\n",
    "# print(acc_death)"
   ]
  },
  {
   "cell_type": "code",
   "execution_count": 24,
   "metadata": {},
   "outputs": [
    {
     "name": "stdout",
     "output_type": "stream",
     "text": [
      "13076721\n"
     ]
    }
   ],
   "source": [
    "# https://www.citypopulation.de/en/germany/admin/09__bayern/\n",
    "\n",
    "Bavaria_pop = np.array([1200904, 1217533, 1638957, 1717926, 1701205, 2108710, 1536697, 1170153, 784636])\n",
    "pop_ratio = Bavaria_pop/Bavaria_pop.sum()\n",
    "# print(Bavaria_pop.sum())"
   ]
  },
  {
   "cell_type": "code",
   "execution_count": 22,
   "metadata": {},
   "outputs": [
    {
     "name": "stdout",
     "output_type": "stream",
     "text": [
      "[0.09183525 0.0931069  0.12533394 0.13137284 0.13009416 0.16125679\n",
      " 0.11751394 0.08948367 0.0600025 ]\n"
     ]
    }
   ],
   "source": [
    "# print(pop_ratio)"
   ]
  },
  {
   "cell_type": "code",
   "execution_count": null,
   "metadata": {},
   "outputs": [],
   "source": [
    "# According to Wikipedia, there are 28000 ICU beds as of 16-Apr-2020\n",
    "# Using 83020000 as the total population of Germany and the ratio between \n",
    "# German total population:Bavaria total population, can get ICU = 13076721/83020000*28000 = 4410\n",
    "t_icu = 4410 # Initial number of ICU beds\n",
    "t_vent = t_icu*icu_with_vent_rate"
   ]
  }
 ],
 "metadata": {
  "kernelspec": {
   "display_name": "Python 3",
   "language": "python",
   "name": "python3"
  },
  "language_info": {
   "codemirror_mode": {
    "name": "ipython",
    "version": 3
   },
   "file_extension": ".py",
   "mimetype": "text/x-python",
   "name": "python",
   "nbconvert_exporter": "python",
   "pygments_lexer": "ipython3",
   "version": "3.8.8"
  }
 },
 "nbformat": 4,
 "nbformat_minor": 2
}

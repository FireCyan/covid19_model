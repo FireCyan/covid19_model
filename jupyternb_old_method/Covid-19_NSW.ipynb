{
 "cells": [
  {
   "cell_type": "markdown",
   "metadata": {},
   "source": [
    "## New South Wales data"
   ]
  },
  {
   "cell_type": "code",
   "execution_count": 1,
   "metadata": {},
   "outputs": [],
   "source": [
    "import pandas as pd\n",
    "import numpy as np\n",
    "import requests\n",
    "from bs4 import BeautifulSoup\n",
    "\n",
    "load_from_wiki = False"
   ]
  },
  {
   "cell_type": "code",
   "execution_count": 2,
   "metadata": {},
   "outputs": [],
   "source": [
    "if load_from_wiki:\n",
    "\n",
    "    page = requests.get(\"https://en.wikipedia.org/wiki/2020_coronavirus_pandemic_in_Australia\")\n",
    "\n",
    "    soup = BeautifulSoup(page.content, 'html.parser')\n",
    "#     print(soup.prettify())\n",
    "\n",
    "    NSW_tables = soup.find_all(\"table\", class_='wikitable')\n",
    "    \n",
    "    df_NSW = pd.read_html(str(NSW_tables), header=0, skiprows=0)[1]\n",
    "    \n",
    "    df_NSW.to_csv(\"./csv_input/df_NSW_20200425.csv\")\n",
    "else:\n",
    "    df_NSW = pd.read_csv(\"./csv_input/df_NSW_20200425.csv\")"
   ]
  },
  {
   "cell_type": "code",
   "execution_count": 52,
   "metadata": {},
   "outputs": [
    {
     "name": "stdout",
     "output_type": "stream",
     "text": [
      "                   Unnamed: 0 NSW[162][a] VIC[164]  QLD[165] SA[166] WA[167]  \\\n",
      "0                  25 January           3        1         0       0       0   \n",
      "1                  27 January           4        1         0       0       0   \n",
      "2                  29 January           4        2         1       0       0   \n",
      "3                  30 January           4        3         2       0       0   \n",
      "4                  1 February           4        4         2       0       0   \n",
      "..                        ...         ...      ...       ...     ...     ...   \n",
      "65              23 April[209]        2976     1337      1026     438     546   \n",
      "66              24 April[210]    2,982[n]     1343  1,026[o]     438     548   \n",
      "67                   25 April        2994     1346  1,026[p]     NaN     NaN   \n",
      "68                        NaN         NSW      VIC       QLD      SA      WA   \n",
      "69  Deaths by State/Territory          33       16      6[q]       4       8   \n",
      "\n",
      "   TAS[168] ACT[169] NT[170][b] Total[c]  Newcases  %growth  \\\n",
      "0         0        0          0        4         4      NaN   \n",
      "1         0        0          0        6         2      NaN   \n",
      "2         0        0          0        7         1      NaN   \n",
      "3         0        0          0        9         2      NaN   \n",
      "4         0        0          0       10         1      NaN   \n",
      "..      ...      ...        ...      ...       ...      ...   \n",
      "65      207      104         27     6661        12    0.18%   \n",
      "66      207      104         27     6675        14    0.21%   \n",
      "67      NaN      NaN        NaN     6690        15      NaN   \n",
      "68      TAS      ACT         NT    Total  Newcases  %growth   \n",
      "69       10        3          0       80       NaN      NaN   \n",
      "\n",
      "   DeathsNationally[173]  \n",
      "0                      0  \n",
      "1                      0  \n",
      "2                      0  \n",
      "3                      0  \n",
      "4                      0  \n",
      "..                   ...  \n",
      "65                    75  \n",
      "66                    78  \n",
      "67                    80  \n",
      "68      DeathsNationally  \n",
      "69                   NaN  \n",
      "\n",
      "[70 rows x 13 columns]\n"
     ]
    }
   ],
   "source": [
    "# print(df_NSW)"
   ]
  },
  {
   "cell_type": "code",
   "execution_count": 3,
   "metadata": {},
   "outputs": [],
   "source": [
    "df_ncase = df_NSW[['Unnamed: 0', 'NSW[162][a]']]\n",
    "# print(df_ncase.loc[46])\n",
    "df_ncase = df_ncase.drop([46, 68, 69])\n",
    "df_ncase = df_ncase.rename(columns={'Unnamed: 0': 'date', 'NSW[162][a]': 'acc_cases'})\n",
    "df_ncase['acc_cases'] = df_ncase['acc_cases'].apply(lambda x: int(str(x).replace(',', '').split('[')[0]))\n",
    "\n",
    "df_ncase.to_csv(\"./csv_input/df_NSW_cleaned_20200425.csv\", index=False)"
   ]
  },
  {
   "cell_type": "code",
   "execution_count": 4,
   "metadata": {},
   "outputs": [],
   "source": [
    "insert_ind = [0, 1, 3, 6, 8, 9, 13, 14, 15, 16, 17, 18, 19, 20, 21, 22, 23, 24, 25, 26, 27, 29, 30, 32, 33, 34]\n",
    "\n",
    "acc_cases = df_ncase['acc_cases'].to_numpy()\n",
    "new_cases = np.diff(acc_cases)\n",
    "new_cases[new_cases < 0] = 0\n",
    "# print(acc_cases)\n",
    "\n",
    "# Fill in 0 that are not recorded in Wiki\n",
    "for i in insert_ind:\n",
    "    if i == 0:\n",
    "        new_cases = np.insert(new_cases, i, 3)\n",
    "    else:\n",
    "        new_cases = np.insert(new_cases, i, 0)\n",
    "# print(new_cases)\n",
    "# df_ncase.head(70)\n",
    "# new_cases = df_ncase.to_numpy()"
   ]
  },
  {
   "cell_type": "code",
   "execution_count": 5,
   "metadata": {},
   "outputs": [],
   "source": [
    "# 2016 demographics \"https://quickstats.censusdata.abs.gov.au/census_services/getproduct/census/2016/quickstat/1\"\n",
    "NSW_pop = np.array([465135 + 478184, 443009 + 448425, 489673 + 527161, 540360 + 499724, 503169 + 492440, 485546 + 469726, \\\n",
    "          420044 + 384470, 292556 + 217308, 155806 + 167506])\n",
    "\n",
    "pop_ratio = NSW_pop/NSW_pop.sum()\n",
    "\n",
    "# print(pop_ratio)\n",
    "# print(NSW_pop.sum())"
   ]
  },
  {
   "cell_type": "code",
   "execution_count": null,
   "metadata": {},
   "outputs": [],
   "source": []
  }
 ],
 "metadata": {
  "kernelspec": {
   "display_name": "Python 3",
   "language": "python",
   "name": "python3"
  },
  "language_info": {
   "codemirror_mode": {
    "name": "ipython",
    "version": 3
   },
   "file_extension": ".py",
   "mimetype": "text/x-python",
   "name": "python",
   "nbconvert_exporter": "python",
   "pygments_lexer": "ipython3",
   "version": "3.8.8"
  }
 },
 "nbformat": 4,
 "nbformat_minor": 2
}

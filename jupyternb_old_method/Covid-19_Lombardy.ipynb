{
 "cells": [
  {
   "cell_type": "markdown",
   "metadata": {},
   "source": [
    "### Lombardia data\n",
    "From Wikipedia"
   ]
  },
  {
   "cell_type": "code",
   "execution_count": 1,
   "metadata": {},
   "outputs": [],
   "source": [
    "import pandas as pd\n",
    "import numpy as np\n",
    "import requests\n",
    "from bs4 import BeautifulSoup\n",
    "\n",
    "load_from_wiki = False"
   ]
  },
  {
   "cell_type": "code",
   "execution_count": 2,
   "metadata": {},
   "outputs": [],
   "source": [
    "if load_from_wiki:\n",
    "\n",
    "    page = requests.get(\"https://en.wikipedia.org/wiki/2020_coronavirus_pandemic_in_Italy#Lombardy_cluster\")\n",
    "\n",
    "    soup = BeautifulSoup(page.content, 'html.parser')\n",
    "    # print(soup.prettify())\n",
    "\n",
    "    Lombardie_tables = soup.find_all(\"table\", class_='wikitable')\n",
    "    \n",
    "    df_Lombardie = pd.read_html(str(Lombardie_tables).replace(\"2;\", \"2\"), header=0, skiprows=1)[3]\n",
    "    \n",
    "    df_Lombardie.to_csv(\"./csv_input/df_Lombardia_20200417.csv\")\n",
    "else:\n",
    "    df_Lombardie = pd.read_csv(\"./csv_input/df_Lombardia_20200417.csv\")"
   ]
  },
  {
   "cell_type": "code",
   "execution_count": 14,
   "metadata": {},
   "outputs": [],
   "source": [
    "\n",
    "\n",
    "# Column date is not added and all cols are shifted to the left by 1. Fixing the issue here\n",
    "# columns_list = df_ncase.columns\n",
    "# new_col_list = ['Date']\n",
    "# new_col_list.extend(columns_list[:-1])\n",
    "# print(new_col_list)\n",
    "# df_ncase.columns = new_col_list\n",
    "# df_Lombardie.head(60)"
   ]
  },
  {
   "cell_type": "code",
   "execution_count": 3,
   "metadata": {},
   "outputs": [],
   "source": [
    "# df_ncase.head()\n",
    "df_ncase_LOM = df_Lombardie[['Date', 'LOM']].loc[0:58]\n",
    "\n",
    "\n",
    "df_ncase_LOM['Death'] = df_ncase_LOM['LOM'].str.extract(r\"\\(([A-Za-z1-9]+)\\)\", expand=False)\n",
    "df_ncase_LOM.loc[df_ncase_LOM['Death'].isnull(), 'Death'] = 0\n",
    "df_ncase_LOM['Death'] = df_ncase_LOM['Death'].astype(int)\n",
    "\n",
    "df_ncase_LOM['LOM'] = df_ncase_LOM['LOM'].str.replace(\",\", \"\").str.extract(r\"(\\d+)$\", expand=False)\n",
    "df_ncase_LOM.loc[df_ncase_LOM['LOM'].isnull(), 'LOM'] = 0\n",
    "df_ncase_LOM['LOM'] = df_ncase_LOM['LOM'].astype(int)\n",
    "\n",
    "df_ncase_LOM.to_csv(\"./csv_input/df_Lombardia_cleaned_20200417.csv\", index=False)"
   ]
  },
  {
   "cell_type": "code",
   "execution_count": 22,
   "metadata": {},
   "outputs": [],
   "source": [
    "df_ncase = df_ncase_LOM['LOM']\n",
    "new_cases = df_ncase.to_numpy()\n",
    "# print(df_ncase)"
   ]
  },
  {
   "cell_type": "code",
   "execution_count": 19,
   "metadata": {},
   "outputs": [
    {
     "name": "stdout",
     "output_type": "stream",
     "text": [
      "[0.0879089  0.09554495 0.09764393 0.11804436 0.15814545 0.15567452\n",
      " 0.11750413 0.09882498 0.07070879]\n"
     ]
    }
   ],
   "source": [
    "# initial_infected = 120000\n",
    "Lombardia_pop = np.array([884414, 961237, 982354, 1187594, 1591034, 1566175, 1182159, 994236, 711371])\n",
    "pop_ratio = Lombardia_pop/Lombardia_pop.sum()\n",
    "# print(pop_ratio)"
   ]
  },
  {
   "cell_type": "code",
   "execution_count": 18,
   "metadata": {},
   "outputs": [],
   "source": [
    "# Lombardia population is 10,000,000. If there is 12.5 critical beds per 100,000 people (according to Forbes)\n",
    "# Then there should be 12.5/100,000 * 10,000,000 = 1250 critical beds"
   ]
  },
  {
   "cell_type": "code",
   "execution_count": 8,
   "metadata": {},
   "outputs": [],
   "source": [
    "# As of 17-Apr-2020, there is 1174 ICU used.\n",
    "t_icu = 1174\n",
    "# Assuming the ratio of vent/(ICU + vent) is 0.54, the number of ventilator available is t_icu*0.54"
   ]
  },
  {
   "cell_type": "code",
   "execution_count": 20,
   "metadata": {},
   "outputs": [
    {
     "name": "stdout",
     "output_type": "stream",
     "text": [
      "9808\n"
     ]
    }
   ],
   "source": [
    "print(df_ncase_LOM['Death'].sum())"
   ]
  },
  {
   "cell_type": "code",
   "execution_count": null,
   "metadata": {},
   "outputs": [],
   "source": []
  }
 ],
 "metadata": {
  "kernelspec": {
   "display_name": "Python 3",
   "language": "python",
   "name": "python3"
  },
  "language_info": {
   "codemirror_mode": {
    "name": "ipython",
    "version": 3
   },
   "file_extension": ".py",
   "mimetype": "text/x-python",
   "name": "python",
   "nbconvert_exporter": "python",
   "pygments_lexer": "ipython3",
   "version": "3.8.8"
  }
 },
 "nbformat": 4,
 "nbformat_minor": 2
}

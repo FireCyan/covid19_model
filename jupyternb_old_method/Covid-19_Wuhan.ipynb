{
 "cells": [
  {
   "cell_type": "code",
   "execution_count": 2,
   "metadata": {},
   "outputs": [],
   "source": [
    "import numpy as np\n"
   ]
  },
  {
   "cell_type": "code",
   "execution_count": 10,
   "metadata": {},
   "outputs": [],
   "source": [
    "# Demography data from Verity et al. 2020\n",
    "\n",
    "# https://en.wikipedia.org/wiki/2019%E2%80%9320_coronavirus_pandemic_in_mainland_China\n",
    "\n",
    "\n",
    "# https://baijiahao.baidu.com/s?id=1663638524679329578&wfr=spider&for=pc\n",
    "# 数据显示，湖北省重症病例数曾多达11246例，2月18日0—24时，湖北有确诊病例50633例（武汉38020例），其中重症病例11246例（武汉9562例）。\n",
    "# 一个月前的数据显示，3月10日0—24时，湖北有确诊病例15671例（武汉14514例），其中重症病例4412例（武汉4217例）。\n",
    "\n",
    "# https://www.citypopulation.de/php/china-hubei-admin_c.php?adm1id=4201\n",
    "wuhan_pop = np.array([655178, 1193294, 2279487, 1486647, 1668609, 1261163, 718296, 391084, 131630])\n",
    "# Based on 2010 data\n",
    "\n",
    "pop_ratio = wuhan_pop/wuhan_pop.sum()\n",
    "# pop_ratio = np.array([0.066954729, 0.121946519, 0.232948045, 0.151925197, 0.170520474, 0.128882268, 0.073404958, 0.039966121, \\\n",
    "#              0.013451689])\n",
    "\n",
    "\n",
    "# Based on \"https://news.sina.cn/project/fy2020/yq_province.shtml?city=CN42010000000000\"\n",
    "acc_cases = np.array([495, 572, 618, 698, 1590, 1905, 2261, 2639, 3215, 4109, 5142, 6384, 8351, 10117, 11618, 13603, \\\n",
    "        14982, 16902, 18454, 19558, 32994, 35991, 37914, 39462, 41152, 42752, 44412, 45027, 45346, 45660, \\\n",
    "        46259, 46607, 47071, 47441, 47824, 48137, 48557, 49122, 49315, 49426, 49540, 49671, 49797, 49871, \\\n",
    "        49912, 49948, 49965, 49978, 49986, 49991, 49995, 49999, 50003, 50004, 50005, 50005, 50005, 50005, \\\n",
    "        50005, 50005, 50006, 50006, 50006, 50006, 50006, 50006, 50006, 50006, 50007, 50007, 50007, 50008, \\\n",
    "                     50008, 50008, 50008, 50008, 50008, 50008, 50008, 50008, 50008])\n",
    "\n",
    "new_cases = np.append(acc_cases[0], np.diff(acc_cases))\n",
    "\n",
    "acc_deaths = [23, 38, 45, 63, 85, 104, 129, 159, 192, 224, 265, 313, 362, 414, 478, 545, 608, 681, 748, 820, 1036, 1016, \\\n",
    "        1123, 1233, 1309, 1381, 1497, 1585, 1684, 1774, 1856, 1987, 2043, 2085, 2104, 2132, 2169, 2195, 2227, 2251, \\\n",
    "        2282, 2305, 2328, 2349, 2370, 2388, 2404, 2423, 2430, 2436, 2446, 2456, 2469, 2480, 2490, 2496, 2498, 2504, \\\n",
    "        2508, 2517, 2524, 2526, 2531, 2535, 2538, 2543, 2547, 2548, 2553, 2559, 2563, 2567, 2570, 2571, 2571, 2572, \\\n",
    "             2574, 2575, 2577, 2577, 2579]\n",
    "\n",
    "new_death = np.append(acc_deaths[0], np.diff(acc_deaths)) # there is a negative value?\n",
    "\n",
    "\n",
    "acc_recovered = [31, 32, 40, 42, 42, 75, 82, 103, 139, 171, 224, 303, 368, 431, 534, 698, 877, 1044, 1206, 1377, 1915, \\\n",
    "          2016, 2502, 2915, 3458, 4219, 4895, 5448, 6214, 7206, 8171, 8946, 10337, 11793, 13328, 15826, 17552, \\\n",
    "          19227, 21185, 23031, 24890, 26316, 27354, 28511, 29770, 30933, 31829, 33041, 34094, 35197, 36451, 37632, \\\n",
    "          38384, 39220, 40032, 40765, 41389, 41891, 42354, 42788, 43214, 43686, 44068, 44591, 44951, 45418, 45733, \\\n",
    "                 46002, 46175, 46320, 46461, 46611, 46794, 46863, 46922, 46991, 47036, 47085, 47112, 47129, 47186]\n",
    "\n",
    "new_recovered = np.append(acc_recovered[0], np.diff(acc_recovered))\n",
    "\n"
   ]
  },
  {
   "cell_type": "code",
   "execution_count": 16,
   "metadata": {
    "scrolled": true
   },
   "outputs": [
    {
     "name": "stdout",
     "output_type": "stream",
     "text": [
      "[0.06695473 0.12194652 0.23294804 0.1519252  0.17052047 0.12888227\n",
      " 0.07340496 0.03996612 0.01345169]\n",
      "50008\n"
     ]
    }
   ],
   "source": [
    "print(pop_ratio)\n",
    "print(new_cases.sum())"
   ]
  },
  {
   "cell_type": "code",
   "execution_count": 15,
   "metadata": {},
   "outputs": [
    {
     "name": "stdout",
     "output_type": "stream",
     "text": [
      "1468.0\n"
     ]
    }
   ],
   "source": [
    "# https://www.chainnews.com/articles/852047607288.htm\n",
    "# Assume there are 5 ICU beds per 100000 in China\n",
    "# Wuhan should have 5*wuhan_pop.sum()/100000 = 489\n",
    "# Also assume that the number of ICU is increased 3 times (2 new hospitals + additional resources from other provinces)\n",
    "t_icu = np.round(5*wuhan_pop.sum()/100000*3)\n",
    "# print(t_icu)"
   ]
  },
  {
   "cell_type": "code",
   "execution_count": 7,
   "metadata": {},
   "outputs": [],
   "source": [
    "# 20200417: Wuhan death raised by 1,290 to 3,869 (was 2579)"
   ]
  },
  {
   "cell_type": "code",
   "execution_count": 8,
   "metadata": {},
   "outputs": [
    {
     "name": "stdout",
     "output_type": "stream",
     "text": [
      "81\n"
     ]
    }
   ],
   "source": [
    "print(len(new_cases))"
   ]
  },
  {
   "cell_type": "code",
   "execution_count": 11,
   "metadata": {},
   "outputs": [
    {
     "name": "stdout",
     "output_type": "stream",
     "text": [
      "9785388\n"
     ]
    }
   ],
   "source": [
    "print(wuhan_pop.sum())"
   ]
  },
  {
   "cell_type": "code",
   "execution_count": 15,
   "metadata": {},
   "outputs": [
    {
     "name": "stdout",
     "output_type": "stream",
     "text": [
      "$60{+}$ proportion:\n"
     ]
    }
   ],
   "source": [
    "print(r\"$60{+}$ proportion:\")"
   ]
  },
  {
   "cell_type": "code",
   "execution_count": null,
   "metadata": {},
   "outputs": [],
   "source": []
  },
  {
   "cell_type": "code",
   "execution_count": null,
   "metadata": {},
   "outputs": [],
   "source": []
  }
 ],
 "metadata": {
  "kernelspec": {
   "display_name": "Python 3",
   "language": "python",
   "name": "python3"
  },
  "language_info": {
   "codemirror_mode": {
    "name": "ipython",
    "version": 3
   },
   "file_extension": ".py",
   "mimetype": "text/x-python",
   "name": "python",
   "nbconvert_exporter": "python",
   "pygments_lexer": "ipython3",
   "version": "3.8.8"
  }
 },
 "nbformat": 4,
 "nbformat_minor": 2
}
